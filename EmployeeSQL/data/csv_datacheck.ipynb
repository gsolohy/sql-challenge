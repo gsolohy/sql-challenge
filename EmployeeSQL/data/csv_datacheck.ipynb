{
 "cells": [
  {
   "cell_type": "code",
   "execution_count": 8,
   "metadata": {},
   "outputs": [],
   "source": [
    "import pandas as pd\n",
    "\n",
    "df_dept = pd.read_csv('departments.csv')\n",
    "df_dept_emp = pd.read_csv('dept_emp.csv')\n",
    "df_dept_mger = pd.read_csv('dept_manager.csv')\n",
    "df_employee = pd.read_csv('employees.csv')\n",
    "df_salary = pd.read_csv('salaries.csv')\n",
    "df_title = pd.read_csv('titles.csv')"
   ]
  },
  {
   "cell_type": "code",
   "execution_count": 9,
   "metadata": {},
   "outputs": [
    {
     "name": "stdout",
     "output_type": "stream",
     "text": [
      "  dept_no  dept_name\n",
      "0    d001  Marketing\n",
      "1    d002    Finance\n"
     ]
    }
   ],
   "source": [
    "print(df_dept.head(2))"
   ]
  },
  {
   "cell_type": "code",
   "execution_count": 10,
   "metadata": {},
   "outputs": [
    {
     "name": "stdout",
     "output_type": "stream",
     "text": [
      "   emp_no dept_no   from_date     to_date\n",
      "0   10001    d005  1986-06-26  9999-01-01\n",
      "1   10002    d007  1996-08-03  9999-01-01\n"
     ]
    }
   ],
   "source": [
    "print(df_dept_emp.head(2))"
   ]
  },
  {
   "cell_type": "code",
   "execution_count": 11,
   "metadata": {},
   "outputs": [
    {
     "name": "stdout",
     "output_type": "stream",
     "text": [
      "  dept_no  emp_no   from_date     to_date\n",
      "0    d001  110022  1985-01-01  1991-10-01\n",
      "1    d001  110039  1991-10-01  9999-01-01\n"
     ]
    }
   ],
   "source": [
    "print(df_dept_mger.head(2))"
   ]
  },
  {
   "cell_type": "code",
   "execution_count": 12,
   "metadata": {},
   "outputs": [
    {
     "name": "stdout",
     "output_type": "stream",
     "text": [
      "   emp_no  birth_date first_name last_name gender   hire_date\n",
      "0   10001  1953-09-02     Georgi   Facello      M  1986-06-26\n",
      "1   10002  1964-06-02    Bezalel    Simmel      F  1985-11-21\n"
     ]
    }
   ],
   "source": [
    "print(df_employee.head(2))"
   ]
  },
  {
   "cell_type": "code",
   "execution_count": 13,
   "metadata": {},
   "outputs": [
    {
     "name": "stdout",
     "output_type": "stream",
     "text": [
      "   emp_no  salary   from_date     to_date\n",
      "0   10001   60117  1986-06-26  1987-06-26\n",
      "1   10002   65828  1996-08-03  1997-08-03\n"
     ]
    }
   ],
   "source": [
    "print(df_salary.head(2))"
   ]
  },
  {
   "cell_type": "code",
   "execution_count": 14,
   "metadata": {},
   "outputs": [
    {
     "name": "stdout",
     "output_type": "stream",
     "text": [
      "   emp_no            title   from_date     to_date\n",
      "0   10001  Senior Engineer  1986-06-26  9999-01-01\n",
      "1   10002            Staff  1996-08-03  9999-01-01\n"
     ]
    }
   ],
   "source": [
    "print(df_title.head(2))"
   ]
  },
  {
   "cell_type": "code",
   "execution_count": null,
   "metadata": {},
   "outputs": [],
   "source": []
  }
 ],
 "metadata": {
  "kernelspec": {
   "display_name": "Python 3",
   "language": "python",
   "name": "python3"
  },
  "language_info": {
   "codemirror_mode": {
    "name": "ipython",
    "version": 3
   },
   "file_extension": ".py",
   "mimetype": "text/x-python",
   "name": "python",
   "nbconvert_exporter": "python",
   "pygments_lexer": "ipython3",
   "version": "3.7.5"
  }
 },
 "nbformat": 4,
 "nbformat_minor": 4
}
